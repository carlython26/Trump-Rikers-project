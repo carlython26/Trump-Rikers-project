{
 "cells": [
  {
   "cell_type": "code",
   "execution_count": 12,
   "id": "aaea53f0-ff11-4cbf-9910-3df935fc14c6",
   "metadata": {},
   "outputs": [
    {
     "name": "stdout",
     "output_type": "stream",
     "text": [
      "Requirement already satisfied: altair[all] in ./.pyenv/versions/3.11.8/lib/python3.11/site-packages (5.3.0)\n",
      "Requirement already satisfied: jinja2 in ./.pyenv/versions/3.11.8/lib/python3.11/site-packages (from altair[all]) (3.1.4)\n",
      "Requirement already satisfied: jsonschema>=3.0 in ./.pyenv/versions/3.11.8/lib/python3.11/site-packages (from altair[all]) (4.22.0)\n",
      "Requirement already satisfied: numpy in ./.pyenv/versions/3.11.8/lib/python3.11/site-packages (from altair[all]) (1.26.4)\n",
      "Requirement already satisfied: packaging in ./.pyenv/versions/3.11.8/lib/python3.11/site-packages (from altair[all]) (24.0)\n",
      "Requirement already satisfied: pandas>=0.25 in ./.pyenv/versions/3.11.8/lib/python3.11/site-packages (from altair[all]) (2.2.2)\n",
      "Requirement already satisfied: toolz in ./.pyenv/versions/3.11.8/lib/python3.11/site-packages (from altair[all]) (0.12.1)\n",
      "Requirement already satisfied: altair-tiles>=0.3.0 in ./.pyenv/versions/3.11.8/lib/python3.11/site-packages (from altair[all]) (0.3.0)\n",
      "Requirement already satisfied: anywidget>=0.9.0 in ./.pyenv/versions/3.11.8/lib/python3.11/site-packages (from altair[all]) (0.9.13)\n",
      "Requirement already satisfied: pyarrow>=11 in ./.pyenv/versions/3.11.8/lib/python3.11/site-packages (from altair[all]) (16.1.0)\n",
      "Requirement already satisfied: vega-datasets>=0.9.0 in ./.pyenv/versions/3.11.8/lib/python3.11/site-packages (from altair[all]) (0.9.0)\n",
      "Requirement already satisfied: vegafusion>=1.6.6 in ./.pyenv/versions/3.11.8/lib/python3.11/site-packages (from vegafusion[embed]>=1.6.6; extra == \"all\"->altair[all]) (1.6.9)\n",
      "Requirement already satisfied: vl-convert-python>=1.3.0 in ./.pyenv/versions/3.11.8/lib/python3.11/site-packages (from altair[all]) (1.5.0)\n",
      "Requirement already satisfied: mercantile in ./.pyenv/versions/3.11.8/lib/python3.11/site-packages (from altair-tiles>=0.3.0->altair[all]) (1.2.1)\n",
      "Requirement already satisfied: xyzservices in ./.pyenv/versions/3.11.8/lib/python3.11/site-packages (from altair-tiles>=0.3.0->altair[all]) (2024.6.0)\n",
      "Requirement already satisfied: ipywidgets>=7.6.0 in ./.pyenv/versions/3.11.8/lib/python3.11/site-packages (from anywidget>=0.9.0->altair[all]) (8.1.3)\n",
      "Requirement already satisfied: psygnal>=0.8.1 in ./.pyenv/versions/3.11.8/lib/python3.11/site-packages (from anywidget>=0.9.0->altair[all]) (0.11.1)\n",
      "Requirement already satisfied: typing-extensions>=4.2.0 in ./.pyenv/versions/3.11.8/lib/python3.11/site-packages (from anywidget>=0.9.0->altair[all]) (4.12.1)\n",
      "Requirement already satisfied: attrs>=22.2.0 in ./.pyenv/versions/3.11.8/lib/python3.11/site-packages (from jsonschema>=3.0->altair[all]) (23.2.0)\n",
      "Requirement already satisfied: jsonschema-specifications>=2023.03.6 in ./.pyenv/versions/3.11.8/lib/python3.11/site-packages (from jsonschema>=3.0->altair[all]) (2023.12.1)\n",
      "Requirement already satisfied: referencing>=0.28.4 in ./.pyenv/versions/3.11.8/lib/python3.11/site-packages (from jsonschema>=3.0->altair[all]) (0.35.1)\n",
      "Requirement already satisfied: rpds-py>=0.7.1 in ./.pyenv/versions/3.11.8/lib/python3.11/site-packages (from jsonschema>=3.0->altair[all]) (0.18.1)\n",
      "Requirement already satisfied: python-dateutil>=2.8.2 in ./.pyenv/versions/3.11.8/lib/python3.11/site-packages (from pandas>=0.25->altair[all]) (2.9.0.post0)\n",
      "Requirement already satisfied: pytz>=2020.1 in ./.pyenv/versions/3.11.8/lib/python3.11/site-packages (from pandas>=0.25->altair[all]) (2024.1)\n",
      "Requirement already satisfied: tzdata>=2022.7 in ./.pyenv/versions/3.11.8/lib/python3.11/site-packages (from pandas>=0.25->altair[all]) (2024.1)\n",
      "Requirement already satisfied: psutil in ./.pyenv/versions/3.11.8/lib/python3.11/site-packages (from vegafusion>=1.6.6->vegafusion[embed]>=1.6.6; extra == \"all\"->altair[all]) (5.9.8)\n",
      "Requirement already satisfied: protobuf in ./.pyenv/versions/3.11.8/lib/python3.11/site-packages (from vegafusion>=1.6.6->vegafusion[embed]>=1.6.6; extra == \"all\"->altair[all]) (5.27.2)\n",
      "Requirement already satisfied: vegafusion-python-embed==1.6.9 in ./.pyenv/versions/3.11.8/lib/python3.11/site-packages (from vegafusion[embed]>=1.6.6; extra == \"all\"->altair[all]) (1.6.9)\n",
      "Requirement already satisfied: MarkupSafe>=2.0 in ./.pyenv/versions/3.11.8/lib/python3.11/site-packages (from jinja2->altair[all]) (2.1.5)\n",
      "Requirement already satisfied: comm>=0.1.3 in ./.pyenv/versions/3.11.8/lib/python3.11/site-packages (from ipywidgets>=7.6.0->anywidget>=0.9.0->altair[all]) (0.2.2)\n",
      "Requirement already satisfied: ipython>=6.1.0 in ./.pyenv/versions/3.11.8/lib/python3.11/site-packages (from ipywidgets>=7.6.0->anywidget>=0.9.0->altair[all]) (8.25.0)\n",
      "Requirement already satisfied: traitlets>=4.3.1 in ./.pyenv/versions/3.11.8/lib/python3.11/site-packages (from ipywidgets>=7.6.0->anywidget>=0.9.0->altair[all]) (5.14.3)\n",
      "Requirement already satisfied: widgetsnbextension~=4.0.11 in ./.pyenv/versions/3.11.8/lib/python3.11/site-packages (from ipywidgets>=7.6.0->anywidget>=0.9.0->altair[all]) (4.0.11)\n",
      "Requirement already satisfied: jupyterlab-widgets~=3.0.11 in ./.pyenv/versions/3.11.8/lib/python3.11/site-packages (from ipywidgets>=7.6.0->anywidget>=0.9.0->altair[all]) (3.0.11)\n",
      "Requirement already satisfied: six>=1.5 in ./.pyenv/versions/3.11.8/lib/python3.11/site-packages (from python-dateutil>=2.8.2->pandas>=0.25->altair[all]) (1.16.0)\n",
      "Requirement already satisfied: click>=3.0 in ./.pyenv/versions/3.11.8/lib/python3.11/site-packages (from mercantile->altair-tiles>=0.3.0->altair[all]) (8.1.7)\n",
      "Requirement already satisfied: decorator in ./.pyenv/versions/3.11.8/lib/python3.11/site-packages (from ipython>=6.1.0->ipywidgets>=7.6.0->anywidget>=0.9.0->altair[all]) (5.1.1)\n",
      "Requirement already satisfied: jedi>=0.16 in ./.pyenv/versions/3.11.8/lib/python3.11/site-packages (from ipython>=6.1.0->ipywidgets>=7.6.0->anywidget>=0.9.0->altair[all]) (0.19.1)\n",
      "Requirement already satisfied: matplotlib-inline in ./.pyenv/versions/3.11.8/lib/python3.11/site-packages (from ipython>=6.1.0->ipywidgets>=7.6.0->anywidget>=0.9.0->altair[all]) (0.1.7)\n",
      "Requirement already satisfied: prompt-toolkit<3.1.0,>=3.0.41 in ./.pyenv/versions/3.11.8/lib/python3.11/site-packages (from ipython>=6.1.0->ipywidgets>=7.6.0->anywidget>=0.9.0->altair[all]) (3.0.46)\n",
      "Requirement already satisfied: pygments>=2.4.0 in ./.pyenv/versions/3.11.8/lib/python3.11/site-packages (from ipython>=6.1.0->ipywidgets>=7.6.0->anywidget>=0.9.0->altair[all]) (2.18.0)\n",
      "Requirement already satisfied: stack-data in ./.pyenv/versions/3.11.8/lib/python3.11/site-packages (from ipython>=6.1.0->ipywidgets>=7.6.0->anywidget>=0.9.0->altair[all]) (0.6.3)\n",
      "Requirement already satisfied: pexpect>4.3 in ./.pyenv/versions/3.11.8/lib/python3.11/site-packages (from ipython>=6.1.0->ipywidgets>=7.6.0->anywidget>=0.9.0->altair[all]) (4.9.0)\n",
      "Requirement already satisfied: parso<0.9.0,>=0.8.3 in ./.pyenv/versions/3.11.8/lib/python3.11/site-packages (from jedi>=0.16->ipython>=6.1.0->ipywidgets>=7.6.0->anywidget>=0.9.0->altair[all]) (0.8.4)\n",
      "Requirement already satisfied: ptyprocess>=0.5 in ./.pyenv/versions/3.11.8/lib/python3.11/site-packages (from pexpect>4.3->ipython>=6.1.0->ipywidgets>=7.6.0->anywidget>=0.9.0->altair[all]) (0.7.0)\n",
      "Requirement already satisfied: wcwidth in ./.pyenv/versions/3.11.8/lib/python3.11/site-packages (from prompt-toolkit<3.1.0,>=3.0.41->ipython>=6.1.0->ipywidgets>=7.6.0->anywidget>=0.9.0->altair[all]) (0.2.13)\n",
      "Requirement already satisfied: executing>=1.2.0 in ./.pyenv/versions/3.11.8/lib/python3.11/site-packages (from stack-data->ipython>=6.1.0->ipywidgets>=7.6.0->anywidget>=0.9.0->altair[all]) (2.0.1)\n",
      "Requirement already satisfied: asttokens>=2.1.0 in ./.pyenv/versions/3.11.8/lib/python3.11/site-packages (from stack-data->ipython>=6.1.0->ipywidgets>=7.6.0->anywidget>=0.9.0->altair[all]) (2.4.1)\n",
      "Requirement already satisfied: pure-eval in ./.pyenv/versions/3.11.8/lib/python3.11/site-packages (from stack-data->ipython>=6.1.0->ipywidgets>=7.6.0->anywidget>=0.9.0->altair[all]) (0.2.2)\n",
      "\n",
      "\u001b[1m[\u001b[0m\u001b[34;49mnotice\u001b[0m\u001b[1;39;49m]\u001b[0m\u001b[39;49m A new release of pip is available: \u001b[0m\u001b[31;49m24.0\u001b[0m\u001b[39;49m -> \u001b[0m\u001b[32;49m24.1.2\u001b[0m\n",
      "\u001b[1m[\u001b[0m\u001b[34;49mnotice\u001b[0m\u001b[1;39;49m]\u001b[0m\u001b[39;49m To update, run: \u001b[0m\u001b[32;49mpip install --upgrade pip\u001b[0m\n"
     ]
    }
   ],
   "source": [
    "import pandas as pd\n",
    "\n",
    "!pip install \"altair[all]\"\n",
    "import altair as alt\n",
    "\n",
    "import matplotlib.pyplot as plt"
   ]
  },
  {
   "cell_type": "code",
   "execution_count": 13,
   "id": "b0273f60-4e30-4d7a-9de0-d5ead6169dbd",
   "metadata": {},
   "outputs": [],
   "source": [
    "df = pd.read_csv(\"Daily_Inmates_In_Custody_20240702.csv\", parse_dates=['ADMITTED_DT'])\n",
    "\n",
    "#downloaded on July second, last updated on July first. So this are all the inmates in custody in NYC as on July 1 2024. \n",
    "#might change slightly by the time Trump is officially sentenced."
   ]
  },
  {
   "cell_type": "code",
   "execution_count": 3,
   "id": "cb9bfe6b-b55b-4d49-844f-491f9bb65606",
   "metadata": {},
   "outputs": [
    {
     "data": {
      "text/html": [
       "<div>\n",
       "<style scoped>\n",
       "    .dataframe tbody tr th:only-of-type {\n",
       "        vertical-align: middle;\n",
       "    }\n",
       "\n",
       "    .dataframe tbody tr th {\n",
       "        vertical-align: top;\n",
       "    }\n",
       "\n",
       "    .dataframe thead th {\n",
       "        text-align: right;\n",
       "    }\n",
       "</style>\n",
       "<table border=\"1\" class=\"dataframe\">\n",
       "  <thead>\n",
       "    <tr style=\"text-align: right;\">\n",
       "      <th></th>\n",
       "      <th>INMATEID</th>\n",
       "      <th>ADMITTED_DT</th>\n",
       "      <th>DISCHARGED_DT</th>\n",
       "      <th>CUSTODY_LEVEL</th>\n",
       "      <th>BRADH</th>\n",
       "      <th>RACE</th>\n",
       "      <th>GENDER</th>\n",
       "      <th>AGE</th>\n",
       "      <th>INMATE_STATUS_CODE</th>\n",
       "      <th>SEALED</th>\n",
       "      <th>SRG_FLG</th>\n",
       "      <th>TOP_CHARGE</th>\n",
       "      <th>INFRACTION</th>\n",
       "    </tr>\n",
       "  </thead>\n",
       "  <tbody>\n",
       "    <tr>\n",
       "      <th>0</th>\n",
       "      <td>90432</td>\n",
       "      <td>2024-05-09 01:38:40</td>\n",
       "      <td>NaN</td>\n",
       "      <td>MIN</td>\n",
       "      <td>N</td>\n",
       "      <td>B</td>\n",
       "      <td>M</td>\n",
       "      <td>43.0</td>\n",
       "      <td>DE</td>\n",
       "      <td>N</td>\n",
       "      <td>N</td>\n",
       "      <td>220.21</td>\n",
       "      <td>N</td>\n",
       "    </tr>\n",
       "    <tr>\n",
       "      <th>1</th>\n",
       "      <td>20206183</td>\n",
       "      <td>2024-03-09 00:42:00</td>\n",
       "      <td>NaN</td>\n",
       "      <td>MAX</td>\n",
       "      <td>N</td>\n",
       "      <td>B</td>\n",
       "      <td>M</td>\n",
       "      <td>25.0</td>\n",
       "      <td>DE</td>\n",
       "      <td>N</td>\n",
       "      <td>Y</td>\n",
       "      <td>265.03</td>\n",
       "      <td>N</td>\n",
       "    </tr>\n",
       "    <tr>\n",
       "      <th>2</th>\n",
       "      <td>160997</td>\n",
       "      <td>2024-06-12 21:17:00</td>\n",
       "      <td>NaN</td>\n",
       "      <td>MED</td>\n",
       "      <td>N</td>\n",
       "      <td>B</td>\n",
       "      <td>M</td>\n",
       "      <td>52.0</td>\n",
       "      <td>DE</td>\n",
       "      <td>N</td>\n",
       "      <td>N</td>\n",
       "      <td>135.20</td>\n",
       "      <td>N</td>\n",
       "    </tr>\n",
       "    <tr>\n",
       "      <th>3</th>\n",
       "      <td>20214579</td>\n",
       "      <td>2024-06-05 17:08:11</td>\n",
       "      <td>NaN</td>\n",
       "      <td>MIN</td>\n",
       "      <td>Y</td>\n",
       "      <td>O</td>\n",
       "      <td>M</td>\n",
       "      <td>61.0</td>\n",
       "      <td>DE</td>\n",
       "      <td>N</td>\n",
       "      <td>N</td>\n",
       "      <td>160.10</td>\n",
       "      <td>N</td>\n",
       "    </tr>\n",
       "    <tr>\n",
       "      <th>4</th>\n",
       "      <td>12292</td>\n",
       "      <td>2024-04-07 00:42:50</td>\n",
       "      <td>NaN</td>\n",
       "      <td>MAX</td>\n",
       "      <td>Y</td>\n",
       "      <td>B</td>\n",
       "      <td>M</td>\n",
       "      <td>35.0</td>\n",
       "      <td>DE</td>\n",
       "      <td>N</td>\n",
       "      <td>N</td>\n",
       "      <td>120.05</td>\n",
       "      <td>N</td>\n",
       "    </tr>\n",
       "  </tbody>\n",
       "</table>\n",
       "</div>"
      ],
      "text/plain": [
       "   INMATEID         ADMITTED_DT  DISCHARGED_DT CUSTODY_LEVEL BRADH RACE  \\\n",
       "0     90432 2024-05-09 01:38:40            NaN           MIN     N    B   \n",
       "1  20206183 2024-03-09 00:42:00            NaN           MAX     N    B   \n",
       "2    160997 2024-06-12 21:17:00            NaN           MED     N    B   \n",
       "3  20214579 2024-06-05 17:08:11            NaN           MIN     Y    O   \n",
       "4     12292 2024-04-07 00:42:50            NaN           MAX     Y    B   \n",
       "\n",
       "  GENDER   AGE INMATE_STATUS_CODE SEALED SRG_FLG TOP_CHARGE INFRACTION  \n",
       "0      M  43.0                 DE      N       N     220.21          N  \n",
       "1      M  25.0                 DE      N       Y     265.03          N  \n",
       "2      M  52.0                 DE      N       N     135.20          N  \n",
       "3      M  61.0                 DE      N       N     160.10          N  \n",
       "4      M  35.0                 DE      N       N     120.05          N  "
      ]
     },
     "execution_count": 3,
     "metadata": {},
     "output_type": "execute_result"
    }
   ],
   "source": [
    "df.head()"
   ]
  },
  {
   "cell_type": "code",
   "execution_count": 126,
   "id": "02269333-52f9-41b8-86b4-e8f463cdc1da",
   "metadata": {},
   "outputs": [
    {
     "data": {
      "text/plain": [
       "(6427, 13)"
      ]
     },
     "execution_count": 126,
     "metadata": {},
     "output_type": "execute_result"
    }
   ],
   "source": [
    "df.shape\n",
    "\n",
    "#so there were 6427 inmates on July 1 2024... \n",
    "#This data set excludes Sealed Cases. Resulting summaries may differ slightly from other published statistics.\n",
    "#Source: disclaimer docx on NYC OpenData"
   ]
  },
  {
   "cell_type": "code",
   "execution_count": 127,
   "id": "025ab85c-a123-432a-829c-bb072e993057",
   "metadata": {},
   "outputs": [
    {
     "data": {
      "text/plain": [
       "INMATEID                       int64\n",
       "ADMITTED_DT           datetime64[ns]\n",
       "DISCHARGED_DT                float64\n",
       "CUSTODY_LEVEL                 object\n",
       "BRADH                         object\n",
       "RACE                          object\n",
       "GENDER                        object\n",
       "AGE                          float64\n",
       "INMATE_STATUS_CODE            object\n",
       "SEALED                        object\n",
       "SRG_FLG                       object\n",
       "TOP_CHARGE                    object\n",
       "INFRACTION                    object\n",
       "dtype: object"
      ]
     },
     "execution_count": 127,
     "metadata": {},
     "output_type": "execute_result"
    }
   ],
   "source": [
    "df.dtypes"
   ]
  },
  {
   "cell_type": "code",
   "execution_count": 128,
   "id": "d8af6dc5-e72d-464e-9dce-1318a72113fb",
   "metadata": {},
   "outputs": [
    {
     "name": "stdout",
     "output_type": "stream",
     "text": [
      "<class 'pandas.core.frame.DataFrame'>\n",
      "RangeIndex: 6427 entries, 0 to 6426\n",
      "Data columns (total 13 columns):\n",
      " #   Column              Non-Null Count  Dtype         \n",
      "---  ------              --------------  -----         \n",
      " 0   INMATEID            6427 non-null   int64         \n",
      " 1   ADMITTED_DT         6427 non-null   datetime64[ns]\n",
      " 2   DISCHARGED_DT       0 non-null      float64       \n",
      " 3   CUSTODY_LEVEL       6379 non-null   object        \n",
      " 4   BRADH               6427 non-null   object        \n",
      " 5   RACE                6412 non-null   object        \n",
      " 6   GENDER              6412 non-null   object        \n",
      " 7   AGE                 6425 non-null   float64       \n",
      " 8   INMATE_STATUS_CODE  6427 non-null   object        \n",
      " 9   SEALED              6427 non-null   object        \n",
      " 10  SRG_FLG             6427 non-null   object        \n",
      " 11  TOP_CHARGE          6137 non-null   object        \n",
      " 12  INFRACTION          6427 non-null   object        \n",
      "dtypes: datetime64[ns](1), float64(2), int64(1), object(9)\n",
      "memory usage: 652.9+ KB\n"
     ]
    }
   ],
   "source": [
    "df.info()\n",
    "\n",
    "#so there are some missing values, for example TOP_CHARGE and CUSTODY_LEVEL\n",
    "#none of them are discharged, so they are all in Null!\n",
    "#which makes sense"
   ]
  },
  {
   "cell_type": "code",
   "execution_count": 129,
   "id": "317d3039-c3a4-4f2d-81bf-2515ee4221a8",
   "metadata": {},
   "outputs": [
    {
     "data": {
      "text/plain": [
       "count    6425.000000\n",
       "mean       36.006070\n",
       "std        11.614332\n",
       "min        18.000000\n",
       "25%        27.000000\n",
       "50%        34.000000\n",
       "75%        43.000000\n",
       "max        86.000000\n",
       "Name: AGE, dtype: float64"
      ]
     },
     "execution_count": 129,
     "metadata": {},
     "output_type": "execute_result"
    }
   ],
   "source": [
    "#let's start with age: what does the distribution look like?\n",
    "#how many buddies his age can Trump find?\n",
    "\n",
    "df.AGE.describe()"
   ]
  },
  {
   "cell_type": "code",
   "execution_count": 10,
   "id": "bc789853-cbc2-4aa4-90d3-16e4026bc991",
   "metadata": {},
   "outputs": [
    {
     "data": {
      "image/png": "[encoded data removed]",
      "text/plain": [
       "<Figure size 640x480 with 1 Axes>"
      ]
     },
     "metadata": {},
     "output_type": "display_data"
    }
   ],
   "source": [
    "df.AGE.hist(bins=100)\n",
    "plt.savefig('age_histogram_pandas.svg', format='svg')\n",
    "plt.show()"
   ]
  },
  {
   "cell_type": "code",
   "execution_count": 131,
   "id": "7284b9cd-75ce-4104-9efc-b4c4274e7489",
   "metadata": {},
   "outputs": [
    {
     "data": {
      "text/html": [
       "<div>\n",
       "<style scoped>\n",
       "    .dataframe tbody tr th:only-of-type {\n",
       "        vertical-align: middle;\n",
       "    }\n",
       "\n",
       "    .dataframe tbody tr th {\n",
       "        vertical-align: top;\n",
       "    }\n",
       "\n",
       "    .dataframe thead th {\n",
       "        text-align: right;\n",
       "    }\n",
       "</style>\n",
       "<table border=\"1\" class=\"dataframe\">\n",
       "  <thead>\n",
       "    <tr style=\"text-align: right;\">\n",
       "      <th></th>\n",
       "      <th>INMATEID</th>\n",
       "      <th>ADMITTED_DT</th>\n",
       "      <th>DISCHARGED_DT</th>\n",
       "      <th>CUSTODY_LEVEL</th>\n",
       "      <th>BRADH</th>\n",
       "      <th>RACE</th>\n",
       "      <th>GENDER</th>\n",
       "      <th>AGE</th>\n",
       "      <th>INMATE_STATUS_CODE</th>\n",
       "      <th>SEALED</th>\n",
       "      <th>SRG_FLG</th>\n",
       "      <th>TOP_CHARGE</th>\n",
       "      <th>INFRACTION</th>\n",
       "    </tr>\n",
       "  </thead>\n",
       "  <tbody>\n",
       "    <tr>\n",
       "      <th>215</th>\n",
       "      <td>20217710</td>\n",
       "      <td>2022-03-05 23:45:00</td>\n",
       "      <td>NaN</td>\n",
       "      <td>MED</td>\n",
       "      <td>Y</td>\n",
       "      <td>B</td>\n",
       "      <td>F</td>\n",
       "      <td>86.0</td>\n",
       "      <td>DE</td>\n",
       "      <td>N</td>\n",
       "      <td>N</td>\n",
       "      <td>125.25</td>\n",
       "      <td>N</td>\n",
       "    </tr>\n",
       "    <tr>\n",
       "      <th>827</th>\n",
       "      <td>20231757</td>\n",
       "      <td>2024-06-04 11:53:36</td>\n",
       "      <td>NaN</td>\n",
       "      <td>MIN</td>\n",
       "      <td>Y</td>\n",
       "      <td>W</td>\n",
       "      <td>M</td>\n",
       "      <td>84.0</td>\n",
       "      <td>SSR</td>\n",
       "      <td>N</td>\n",
       "      <td>N</td>\n",
       "      <td>460.20</td>\n",
       "      <td>N</td>\n",
       "    </tr>\n",
       "    <tr>\n",
       "      <th>2009</th>\n",
       "      <td>20085172</td>\n",
       "      <td>2021-12-03 12:02:29</td>\n",
       "      <td>NaN</td>\n",
       "      <td>MED</td>\n",
       "      <td>N</td>\n",
       "      <td>B</td>\n",
       "      <td>M</td>\n",
       "      <td>84.0</td>\n",
       "      <td>DE</td>\n",
       "      <td>N</td>\n",
       "      <td>N</td>\n",
       "      <td>125.20</td>\n",
       "      <td>N</td>\n",
       "    </tr>\n",
       "  </tbody>\n",
       "</table>\n",
       "</div>"
      ],
      "text/plain": [
       "      INMATEID         ADMITTED_DT  DISCHARGED_DT CUSTODY_LEVEL BRADH RACE  \\\n",
       "215   20217710 2022-03-05 23:45:00            NaN           MED     Y    B   \n",
       "827   20231757 2024-06-04 11:53:36            NaN           MIN     Y    W   \n",
       "2009  20085172 2021-12-03 12:02:29            NaN           MED     N    B   \n",
       "\n",
       "     GENDER   AGE INMATE_STATUS_CODE SEALED SRG_FLG TOP_CHARGE INFRACTION  \n",
       "215       F  86.0                 DE      N       N     125.25          N  \n",
       "827       M  84.0                SSR      N       N     460.20          N  \n",
       "2009      M  84.0                 DE      N       N     125.20          N  "
      ]
     },
     "execution_count": 131,
     "metadata": {},
     "output_type": "execute_result"
    }
   ],
   "source": [
    "#almost no-one as old as Trump. let's zoom in:\n",
    "#how many people are as old as Trump? and how many are even older still?\n",
    "\n",
    "df.query('AGE > 78')\n",
    "\n",
    "#only three older than Trump!!!"
   ]
  },
  {
   "cell_type": "markdown",
   "id": "6095bdad-3933-4314-880d-d36797f0e6e6",
   "metadata": {},
   "source": [
    "## NOTE TO SELF\n",
    "\n",
    "Maybe I can add some jokes about age. Like how many were a live when Trump did / said XYZ? Include a small timeline?"
   ]
  },
  {
   "cell_type": "code",
   "execution_count": 132,
   "id": "a70e56f7-ec5c-49ea-93da-a106c6703408",
   "metadata": {},
   "outputs": [
    {
     "data": {
      "text/plain": [
       "GENDER\n",
       "M    6020\n",
       "F     392\n",
       "Name: count, dtype: int64"
      ]
     },
     "execution_count": 132,
     "metadata": {},
     "output_type": "execute_result"
    }
   ],
   "source": [
    "#let's speak prison wives\n",
    "#how many men and women?\n",
    "#how many in Trumps desired age bracket \n",
    "\n",
    "df.GENDER.value_counts()"
   ]
  },
  {
   "cell_type": "markdown",
   "id": "46cf7a7c-d4cf-4ce4-81e0-1df0849efc01",
   "metadata": {},
   "source": [
    "## To do\n",
    "\n",
    "Make a waffle chart showing how much his odds slink when men are filtered out"
   ]
  },
  {
   "cell_type": "code",
   "execution_count": 14,
   "id": "f80d3f64-0936-4db5-84f1-e6fd2b9fe6e7",
   "metadata": {},
   "outputs": [
    {
     "data": {
      "text/html": [
       "<div>\n",
       "<style scoped>\n",
       "    .dataframe tbody tr th:only-of-type {\n",
       "        vertical-align: middle;\n",
       "    }\n",
       "\n",
       "    .dataframe tbody tr th {\n",
       "        vertical-align: top;\n",
       "    }\n",
       "\n",
       "    .dataframe thead th {\n",
       "        text-align: right;\n",
       "    }\n",
       "</style>\n",
       "<table border=\"1\" class=\"dataframe\">\n",
       "  <thead>\n",
       "    <tr style=\"text-align: right;\">\n",
       "      <th></th>\n",
       "      <th>INMATEID</th>\n",
       "      <th>ADMITTED_DT</th>\n",
       "      <th>DISCHARGED_DT</th>\n",
       "      <th>CUSTODY_LEVEL</th>\n",
       "      <th>BRADH</th>\n",
       "      <th>RACE</th>\n",
       "      <th>GENDER</th>\n",
       "      <th>AGE</th>\n",
       "      <th>INMATE_STATUS_CODE</th>\n",
       "      <th>SEALED</th>\n",
       "      <th>SRG_FLG</th>\n",
       "      <th>TOP_CHARGE</th>\n",
       "      <th>INFRACTION</th>\n",
       "    </tr>\n",
       "  </thead>\n",
       "  <tbody>\n",
       "    <tr>\n",
       "      <th>6</th>\n",
       "      <td>20192738</td>\n",
       "      <td>2024-05-15 17:09:17</td>\n",
       "      <td>NaN</td>\n",
       "      <td>MED</td>\n",
       "      <td>Y</td>\n",
       "      <td>I</td>\n",
       "      <td>F</td>\n",
       "      <td>29.0</td>\n",
       "      <td>DE</td>\n",
       "      <td>N</td>\n",
       "      <td>N</td>\n",
       "      <td>140.30</td>\n",
       "      <td>Y</td>\n",
       "    </tr>\n",
       "    <tr>\n",
       "      <th>15</th>\n",
       "      <td>20204598</td>\n",
       "      <td>2024-05-31 17:03:26</td>\n",
       "      <td>NaN</td>\n",
       "      <td>MAX</td>\n",
       "      <td>Y</td>\n",
       "      <td>O</td>\n",
       "      <td>F</td>\n",
       "      <td>25.0</td>\n",
       "      <td>DEP</td>\n",
       "      <td>N</td>\n",
       "      <td>N</td>\n",
       "      <td>160.15</td>\n",
       "      <td>N</td>\n",
       "    </tr>\n",
       "    <tr>\n",
       "      <th>19</th>\n",
       "      <td>20222538</td>\n",
       "      <td>2024-06-28 16:59:30</td>\n",
       "      <td>NaN</td>\n",
       "      <td>NaN</td>\n",
       "      <td>N</td>\n",
       "      <td>O</td>\n",
       "      <td>F</td>\n",
       "      <td>45.0</td>\n",
       "      <td>DE</td>\n",
       "      <td>N</td>\n",
       "      <td>N</td>\n",
       "      <td>215.50</td>\n",
       "      <td>N</td>\n",
       "    </tr>\n",
       "    <tr>\n",
       "      <th>53</th>\n",
       "      <td>61797</td>\n",
       "      <td>2024-04-18 16:49:11</td>\n",
       "      <td>NaN</td>\n",
       "      <td>MIN</td>\n",
       "      <td>Y</td>\n",
       "      <td>O</td>\n",
       "      <td>F</td>\n",
       "      <td>38.0</td>\n",
       "      <td>DE</td>\n",
       "      <td>N</td>\n",
       "      <td>N</td>\n",
       "      <td>140.25</td>\n",
       "      <td>N</td>\n",
       "    </tr>\n",
       "    <tr>\n",
       "      <th>55</th>\n",
       "      <td>20220283</td>\n",
       "      <td>2024-06-22 01:50:59</td>\n",
       "      <td>NaN</td>\n",
       "      <td>MED</td>\n",
       "      <td>N</td>\n",
       "      <td>B</td>\n",
       "      <td>F</td>\n",
       "      <td>35.0</td>\n",
       "      <td>DE</td>\n",
       "      <td>N</td>\n",
       "      <td>N</td>\n",
       "      <td>215.51</td>\n",
       "      <td>N</td>\n",
       "    </tr>\n",
       "  </tbody>\n",
       "</table>\n",
       "</div>"
      ],
      "text/plain": [
       "    INMATEID         ADMITTED_DT  DISCHARGED_DT CUSTODY_LEVEL BRADH RACE  \\\n",
       "6   20192738 2024-05-15 17:09:17            NaN           MED     Y    I   \n",
       "15  20204598 2024-05-31 17:03:26            NaN           MAX     Y    O   \n",
       "19  20222538 2024-06-28 16:59:30            NaN           NaN     N    O   \n",
       "53     61797 2024-04-18 16:49:11            NaN           MIN     Y    O   \n",
       "55  20220283 2024-06-22 01:50:59            NaN           MED     N    B   \n",
       "\n",
       "   GENDER   AGE INMATE_STATUS_CODE SEALED SRG_FLG TOP_CHARGE INFRACTION  \n",
       "6       F  29.0                 DE      N       N     140.30          Y  \n",
       "15      F  25.0                DEP      N       N     160.15          N  \n",
       "19      F  45.0                 DE      N       N     215.50          N  \n",
       "53      F  38.0                 DE      N       N     140.25          N  \n",
       "55      F  35.0                 DE      N       N     215.51          N  "
      ]
     },
     "execution_count": 14,
     "metadata": {},
     "output_type": "execute_result"
    }
   ],
   "source": [
    "#let's just focus on women, much smaller sample size\n",
    "\n",
    "prison_wives = df[df['GENDER'] == 'F']\n",
    "prison_wives.head()"
   ]
  },
  {
   "cell_type": "code",
   "execution_count": 134,
   "id": "d2473500-05c0-49c0-b735-979a160fc8ef",
   "metadata": {},
   "outputs": [
    {
     "data": {
      "text/plain": [
       "<Axes: >"
      ]
     },
     "execution_count": 134,
     "metadata": {},
     "output_type": "execute_result"
    },
    {
     "data": {
      "image/png": "[encoded data removed]",
      "text/plain": [
       "<Figure size 640x480 with 1 Axes>"
      ]
     },
     "metadata": {},
     "output_type": "display_data"
    }
   ],
   "source": [
    "prison_wives.AGE.hist(bins=60)\n"
   ]
  },
  {
   "cell_type": "code",
   "execution_count": 135,
   "id": "c5cb5057-21f4-4061-bc70-d71256adb98d",
   "metadata": {},
   "outputs": [
    {
     "data": {
      "text/plain": [
       "count    392.000000\n",
       "mean      37.043367\n",
       "std       10.644723\n",
       "min       18.000000\n",
       "25%       30.000000\n",
       "50%       36.000000\n",
       "75%       42.000000\n",
       "max       86.000000\n",
       "Name: AGE, dtype: float64"
      ]
     },
     "execution_count": 135,
     "metadata": {},
     "output_type": "execute_result"
    }
   ],
   "source": [
    "prison_wives.AGE.describe()"
   ]
  },
  {
   "cell_type": "code",
   "execution_count": 136,
   "id": "97483e4f-8740-4466-9e07-3c15758357a6",
   "metadata": {},
   "outputs": [
    {
     "data": {
      "text/plain": [
       "364"
      ]
     },
     "execution_count": 136,
     "metadata": {},
     "output_type": "execute_result"
    }
   ],
   "source": [
    "#even though we know he likes women young, Melania is 54\n",
    "#let's have some mercy and say 54 and younger are OK for him\n",
    "#how many left?\n",
    "\n",
    "# prison_wives.query(\"AGE < 55\").value_counts\n",
    "\n",
    "(prison_wives['AGE'] < 55).sum()"
   ]
  },
  {
   "cell_type": "code",
   "execution_count": 15,
   "id": "b879ca71-d6c7-4abf-a0a9-a4186ea61a94",
   "metadata": {},
   "outputs": [
    {
     "data": {
      "text/plain": [
       "190"
      ]
     },
     "execution_count": 15,
     "metadata": {},
     "output_type": "execute_result"
    }
   ],
   "source": [
    "(prison_wives['AGE'] < 36).sum()"
   ]
  },
  {
   "cell_type": "code",
   "execution_count": 137,
   "id": "f1f66e8c-2663-4635-8891-ec1abe7f6159",
   "metadata": {},
   "outputs": [
    {
     "data": {
      "text/plain": [
       "TOP_CHARGE\n",
       "125.25        876\n",
       "110-125.25    558\n",
       "160.15        467\n",
       "120.05        389\n",
       "265.03        385\n",
       "140.25        235\n",
       "140.20        235\n",
       "160.10        208\n",
       "120.10        174\n",
       "220.16        160\n",
       "Name: count, dtype: int64"
      ]
     },
     "execution_count": 137,
     "metadata": {},
     "output_type": "execute_result"
    }
   ],
   "source": [
    "#what kind of crimes? value_counts\n",
    "#these are the top 10 most common ones\n",
    "\n",
    "df.TOP_CHARGE.value_counts().head(10)"
   ]
  },
  {
   "cell_type": "code",
   "execution_count": 138,
   "id": "c0662e37-eb37-482f-836f-297c90c9fde9",
   "metadata": {},
   "outputs": [
    {
     "data": {
      "text/plain": [
       "0"
      ]
     },
     "execution_count": 138,
     "metadata": {},
     "output_type": "execute_result"
    }
   ],
   "source": [
    "#if I found out Trumps charge check how many buddies he has...\n",
    "\n",
    "(df['TOP_CHARGE'] == 175.10).sum()"
   ]
  },
  {
   "cell_type": "code",
   "execution_count": 92,
   "id": "bf8c3e78-4913-4610-a34e-9aec327177a8",
   "metadata": {},
   "outputs": [
    {
     "data": {
      "text/html": [
       "<div>\n",
       "<style scoped>\n",
       "    .dataframe tbody tr th:only-of-type {\n",
       "        vertical-align: middle;\n",
       "    }\n",
       "\n",
       "    .dataframe tbody tr th {\n",
       "        vertical-align: top;\n",
       "    }\n",
       "\n",
       "    .dataframe thead th {\n",
       "        text-align: right;\n",
       "    }\n",
       "</style>\n",
       "<table border=\"1\" class=\"dataframe\">\n",
       "  <thead>\n",
       "    <tr style=\"text-align: right;\">\n",
       "      <th></th>\n",
       "      <th>INMATEID</th>\n",
       "      <th>ADMITTED_DT</th>\n",
       "      <th>DISCHARGED_DT</th>\n",
       "      <th>CUSTODY_LEVEL</th>\n",
       "      <th>BRADH</th>\n",
       "      <th>RACE</th>\n",
       "      <th>GENDER</th>\n",
       "      <th>AGE</th>\n",
       "      <th>INMATE_STATUS_CODE</th>\n",
       "      <th>SEALED</th>\n",
       "      <th>SRG_FLG</th>\n",
       "      <th>TOP_CHARGE</th>\n",
       "      <th>INFRACTION</th>\n",
       "    </tr>\n",
       "  </thead>\n",
       "  <tbody>\n",
       "    <tr>\n",
       "      <th>3634</th>\n",
       "      <td>20232213</td>\n",
       "      <td>2024-06-24 12:49:53</td>\n",
       "      <td>NaN</td>\n",
       "      <td>MIN</td>\n",
       "      <td>Y</td>\n",
       "      <td>B</td>\n",
       "      <td>M</td>\n",
       "      <td>45.0</td>\n",
       "      <td>DNS</td>\n",
       "      <td>N</td>\n",
       "      <td>N</td>\n",
       "      <td>175.35</td>\n",
       "      <td>N</td>\n",
       "    </tr>\n",
       "  </tbody>\n",
       "</table>\n",
       "</div>"
      ],
      "text/plain": [
       "      INMATEID         ADMITTED_DT  DISCHARGED_DT CUSTODY_LEVEL BRADH RACE  \\\n",
       "3634  20232213 2024-06-24 12:49:53            NaN           MIN     Y    B   \n",
       "\n",
       "     GENDER   AGE INMATE_STATUS_CODE SEALED SRG_FLG TOP_CHARGE INFRACTION  \n",
       "3634      M  45.0                DNS      N       N     175.35          N  "
      ]
     },
     "execution_count": 92,
     "metadata": {},
     "output_type": "execute_result"
    }
   ],
   "source": [
    "#I'm not sure it is really true that no-one is in Rikers for the same crime as Trump\n",
    "#Let's see if it is encoded differently in this dataset\n",
    "\n",
    "df['TOP_CHARGE'].str.contains(\"175\").sum()\n",
    "\n",
    "#so it seems like there is one other person!!! let's take a look at that case somehow\n",
    "\n",
    "df[df['TOP_CHARGE'].str.contains(\"175\", na=False)]"
   ]
  },
  {
   "cell_type": "code",
   "execution_count": 93,
   "id": "fcb76513-7a62-49ce-9919-d124ac717a15",
   "metadata": {},
   "outputs": [
    {
     "data": {
      "text/plain": [
       "TOP_CHARGE\n",
       "221.25         1\n",
       "110-250.45     1\n",
       "150.10H        1\n",
       "145.20         1\n",
       "110-265.01     1\n",
       "130.45         1\n",
       "145.15         1\n",
       "1192(2)-A      1\n",
       "150.01         1\n",
       "110-170.70     1\n",
       "110-130.25     1\n",
       "110-200.03     1\n",
       "110-140.30     1\n",
       "190.78         1\n",
       "205.25         1\n",
       "511-A(3)       1\n",
       "130.67         1\n",
       "1192.30        1\n",
       "105.13         1\n",
       "165.30         1\n",
       "140.35         1\n",
       "230.30         1\n",
       "110-220.39     1\n",
       "120.14H        1\n",
       "140.25SM       1\n",
       "110-170.25     1\n",
       "175.35         1\n",
       "121.13H        1\n",
       "220.48         1\n",
       "110-120.11     1\n",
       "110-120.00     1\n",
       "VTL 999.99     1\n",
       "130.40         1\n",
       "110-150.10     1\n",
       "195.02         1\n",
       "165.54         1\n",
       "245.00         1\n",
       "170.15         1\n",
       "210.10         1\n",
       "110-125.25H    1\n",
       "120.02         1\n",
       "110-121.12     1\n",
       "190.25         1\n",
       "140.40         1\n",
       "110-125.26     1\n",
       "VTL 1192.4A    1\n",
       "170.40         1\n",
       "120.04         1\n",
       "120.06         1\n",
       "240.20         1\n",
       "470.20         1\n",
       "120.70         1\n",
       "125.25H        1\n",
       "240.26         1\n",
       "110-215.40     1\n",
       "VTL 666.66     1\n",
       "Name: count, dtype: int64"
      ]
     },
     "execution_count": 93,
     "metadata": {},
     "output_type": "execute_result"
    }
   ],
   "source": [
    "#least common, 56 sentences that are so niche they have only been given once...\n",
    "\n",
    "df.TOP_CHARGE.value_counts().tail(56)"
   ]
  },
  {
   "cell_type": "markdown",
   "id": "77e7c3a5-93fd-470a-9408-7f8ca376b9cb",
   "metadata": {},
   "source": [
    "## Breakdown of the crime codes\n",
    "\n",
    "### Top 10 most common crimes represented in Rikers:\n",
    "\n",
    "1. 125.25: Murder in the second degree        \n",
    "2. 110-125.25: Attempted murder in the second degree\n",
    "3. 160.15: Robbert in the first degree       \n",
    "4. 120.05: Assault in he second degree\n",
    "5. 265.03: Criminal possession of a weapon in the second degree\n",
    "6. 140.25: Burglary in the second degree\n",
    "7. 140.20: Burglary in the third degree\n",
    "8. 160.10: Robbery in the second degree\n",
    "9. 120.10: Assault in the first degree\n",
    "10. 220.16: Criminal possession of a controlled substance in the third degree\n",
    "\n",
    "### Trump's penal code:\n",
    "\n",
    "\"Donald Trump was found guilty on 34 counts of falsifying business records in the first degree in connection with the hush money payment to Stormy Daniels. These charges are classified under New York Penal Law §175.10, which involves making false entries in business records with the intent to defraud and conceal other criminal activities.\n",
    "\n",
    "The case revealed that Trump, along with his former attorney Michael Cohen and others, engaged in a scheme to cover up damaging information during the 2016 presidential election. This involved recording payments as legal expenses, which were actually reimbursements for hush money intended to suppress allegations of an affair.\n",
    "\n",
    "For more details, you can check sources like FactCheck.org and Wikipedia.\"\n",
    "\n",
    "Source: https://www.nysenate.gov/legislation/laws/PEN/175.10"
   ]
  },
  {
   "cell_type": "code",
   "execution_count": 94,
   "id": "5ff2a0d5-83f2-49bb-ba83-e3fdf5161711",
   "metadata": {},
   "outputs": [
    {
     "data": {
      "text/plain": [
       "SRG_FLG\n",
       "N    5100\n",
       "Y    1327\n",
       "Name: count, dtype: int64"
      ]
     },
     "execution_count": 94,
     "metadata": {},
     "output_type": "execute_result"
    }
   ],
   "source": [
    "#how many are part of a gang?\n",
    "#SRG_FLG: SRG_FLG stands for Security Risk Group Flag. \n",
    "#This designation is used to identify inmates who are affiliated with gangs or other groups that pose a security risk within the prison. \n",
    "#Inmates with an SRG flag are subject to increased monitoring and may face restrictions to mitigate potential threats to safety \n",
    "#and order within the facility.\n",
    "\n",
    "df.SRG_FLG.value_counts()"
   ]
  },
  {
   "cell_type": "code",
   "execution_count": 95,
   "id": "078b7e86-32d4-4481-8e2b-2ed3ab9ec57a",
   "metadata": {},
   "outputs": [
    {
     "data": {
      "text/plain": [
       "BRADH\n",
       "Y    3539\n",
       "N    2888\n",
       "Name: count, dtype: int64"
      ]
     },
     "execution_count": 95,
     "metadata": {},
     "output_type": "execute_result"
    }
   ],
   "source": [
    "#how about the mental health of the prisoners\n",
    "#In the context of the NYC prison population, \"BradH\" refers to inmates who are part of a class defined \n",
    "#by the Brad H. v. City of New York settlement. \n",
    "#These individuals have been identified by mental health staff as having symptoms of mental illness. \n",
    "#The designation \"BradH\" indicates that these inmates have met with mental health professionals \n",
    "#and have been diagnosed with some form of mental health condition.\n",
    "\n",
    "df.BRADH.value_counts()"
   ]
  },
  {
   "cell_type": "code",
   "execution_count": 96,
   "id": "e36ab0a9-0e52-4a2a-a941-bde4c2b9db83",
   "metadata": {},
   "outputs": [
    {
     "data": {
      "text/plain": [
       "INFRACTION\n",
       "N    4590\n",
       "Y    1837\n",
       "Name: count, dtype: int64"
      ]
     },
     "execution_count": 96,
     "metadata": {},
     "output_type": "execute_result"
    }
   ],
   "source": [
    "#INFRACTION: In the context of the NYC prison population, an infraction refers to a minor violation of prison rules or regulations. \n",
    "#Infractions are less severe than misdemeanors and felonies and typically result in administrative actions \n",
    "#or penalties within the prison system, such as loss of privileges, rather than criminal charges.\n",
    "\n",
    "df.INFRACTION.value_counts()"
   ]
  },
  {
   "cell_type": "code",
   "execution_count": 97,
   "id": "624748ea-8303-4b4d-aaed-c7ddf09db494",
   "metadata": {},
   "outputs": [
    {
     "data": {
      "text/plain": [
       "CUSTODY_LEVEL\n",
       "MED    2754\n",
       "MIN    1976\n",
       "MAX    1649\n",
       "Name: count, dtype: int64"
      ]
     },
     "execution_count": 97,
     "metadata": {},
     "output_type": "execute_result"
    }
   ],
   "source": [
    "#CUSTODY_LEVEL: Custody Level refers to the security classification assigned to an inmate based on the perceived risk they pose \n",
    "#and their behavior. Common custody levels include minimum, medium, and maximum security. \n",
    "#These levels determine the degree of supervision and the types of facilities where inmates are housed, \n",
    "#influencing aspects such as freedom of movement, access to programs, and interaction with other inmates.\n",
    "\n",
    "df.CUSTODY_LEVEL.value_counts()"
   ]
  },
  {
   "cell_type": "code",
   "execution_count": 98,
   "id": "652c6c16-30a9-4c3e-9e4b-e47494422283",
   "metadata": {},
   "outputs": [
    {
     "data": {
      "text/plain": [
       "RACE\n",
       "B    3744\n",
       "O    1953\n",
       "W     507\n",
       "A     141\n",
       "U      47\n",
       "I      20\n",
       "Name: count, dtype: int64"
      ]
     },
     "execution_count": 98,
     "metadata": {},
     "output_type": "execute_result"
    }
   ],
   "source": [
    "#RACE\n",
    "\n",
    "df.RACE.value_counts()"
   ]
  },
  {
   "cell_type": "code",
   "execution_count": 99,
   "id": "e7903c7c-394c-40d4-8b27-df82fcf47527",
   "metadata": {},
   "outputs": [
    {
     "data": {
      "text/plain": [
       "<Axes: ylabel='RACE'>"
      ]
     },
     "execution_count": 99,
     "metadata": {},
     "output_type": "execute_result"
    },
    {
     "data": {
      "image/png": "[encoded data removed]",
      "text/plain": [
       "<Figure size 640x480 with 1 Axes>"
      ]
     },
     "metadata": {},
     "output_type": "display_data"
    }
   ],
   "source": [
    "#Make a barchart of the race \n",
    "\n",
    "df.RACE.value_counts().sort_values(ascending=True).plot(kind='barh')"
   ]
  },
  {
   "cell_type": "code",
   "execution_count": 100,
   "id": "8c1abca4-d5a5-4410-af5e-0cb2ae6df5f5",
   "metadata": {},
   "outputs": [
    {
     "data": {
      "text/plain": [
       "RACE\n",
       "B    0.583905\n",
       "O    0.304585\n",
       "W    0.079070\n",
       "A    0.021990\n",
       "U    0.007330\n",
       "I    0.003119\n",
       "Name: proportion, dtype: float64"
      ]
     },
     "execution_count": 100,
     "metadata": {},
     "output_type": "execute_result"
    }
   ],
   "source": [
    "df.RACE.value_counts(normalize=True)"
   ]
  },
  {
   "cell_type": "code",
   "execution_count": 101,
   "id": "ef32eac8-977a-4774-96b1-8210fb82bb63",
   "metadata": {},
   "outputs": [
    {
     "name": "stdout",
     "output_type": "stream",
     "text": [
      "      INMATEID ADMITTED_DT  DISCHARGED_DT CUSTODY_LEVEL BRADH RACE GENDER  \\\n",
      "0        90432  2024-05-09            NaN           MIN     N    B      M   \n",
      "1     20206183  2024-03-09            NaN           MAX     N    B      M   \n",
      "2       160997  2024-06-12            NaN           MED     N    B      M   \n",
      "3     20214579  2024-06-05            NaN           MIN     Y    O      M   \n",
      "4        12292  2024-04-07            NaN           MAX     Y    B      M   \n",
      "...        ...         ...            ...           ...   ...  ...    ...   \n",
      "6422  20011202  2024-05-25            NaN           MED     Y    B      M   \n",
      "6423     78616  2024-03-24            NaN           MIN     Y    O      M   \n",
      "6424  20230073  2024-03-09            NaN           MED     Y    B      M   \n",
      "6425    153468  2024-06-27            NaN           MED     Y    B      M   \n",
      "6426  20222453  2023-12-12            NaN           MIN     Y    B      M   \n",
      "\n",
      "       AGE INMATE_STATUS_CODE SEALED SRG_FLG TOP_CHARGE INFRACTION  \n",
      "0     43.0                 DE      N       N     220.21          N  \n",
      "1     25.0                 DE      N       Y     265.03          N  \n",
      "2     52.0                 DE      N       N     135.20          N  \n",
      "3     61.0                 DE      N       N     160.10          N  \n",
      "4     35.0                 DE      N       N     120.05          N  \n",
      "...    ...                ...    ...     ...        ...        ...  \n",
      "6422  47.0                 DE      N       N     220.39          N  \n",
      "6423  57.0                 DE      N       N     220.39          N  \n",
      "6424  30.0                 DE      N       N     125.25          N  \n",
      "6425  49.0                 DE      N       N     265.01          N  \n",
      "6426  46.0                 DE      N       N     140.25          N  \n",
      "\n",
      "[6427 rows x 13 columns]\n"
     ]
    }
   ],
   "source": [
    "#ADMITTED_DATE --> turn into date time element\n",
    "#remove all the times from the ADMITTED_DT\n",
    "\n",
    "\n",
    "# Convert ADMITTED_DT to datetime format\n",
    "df['ADMITTED_DT'] = pd.to_datetime(df['ADMITTED_DT'], format='%m/%d/%Y %H:%M:%S')\n",
    "\n",
    "# Remove the time part, keeping only the date\n",
    "df['ADMITTED_DT'] = df['ADMITTED_DT'].dt.date\n",
    "\n",
    "# Display the DataFrame\n",
    "print(df)"
   ]
  },
  {
   "cell_type": "code",
   "execution_count": 104,
   "id": "187e0d30-59be-45ac-9aa4-dc7639830acf",
   "metadata": {},
   "outputs": [],
   "source": [
    "#average prison sentence so far of the current prisoners / .describe()\n",
    "#but first do current date minus ADMITTED_DT, and then turn that into a variable with a \n",
    "#number of days\n",
    "\n",
    "# Define the current date aka the date that is the end limit of the dataset when I downloaded it\n",
    "current_date = pd.to_datetime('07-01-2024').date()"
   ]
  },
  {
   "cell_type": "code",
   "execution_count": 108,
   "id": "5f3c9ef1-0326-47a5-97f5-5b292969d169",
   "metadata": {},
   "outputs": [
    {
     "data": {
      "text/plain": [
       "0     53\n",
       "1    114\n",
       "2     19\n",
       "3     26\n",
       "4     85\n",
       "Name: sentence_length, dtype: int64"
      ]
     },
     "execution_count": 108,
     "metadata": {},
     "output_type": "execute_result"
    }
   ],
   "source": [
    "# Calculate the sentence length in days\n",
    "\n",
    "df['sentence_length'] = (current_date - df['ADMITTED_DT']).apply(lambda x: x.days)\n",
    "df['sentence_length'].head()"
   ]
  },
  {
   "cell_type": "code",
   "execution_count": 110,
   "id": "12effd0b-5855-49c0-9b6b-7795139a35a1",
   "metadata": {},
   "outputs": [
    {
     "data": {
      "text/plain": [
       "count    6427.000000\n",
       "mean      242.367668\n",
       "std       314.500277\n",
       "min         0.000000\n",
       "25%        45.000000\n",
       "50%       125.000000\n",
       "75%       315.000000\n",
       "max      4264.000000\n",
       "Name: sentence_length, dtype: float64"
      ]
     },
     "execution_count": 110,
     "metadata": {},
     "output_type": "execute_result"
    }
   ],
   "source": [
    "#distribution\n",
    "\n",
    "df.sentence_length.describe()"
   ]
  },
  {
   "cell_type": "code",
   "execution_count": 119,
   "id": "3eea0e3c-f877-4e82-bd5e-ed47d2718c19",
   "metadata": {},
   "outputs": [
    {
     "data": {
      "text/plain": [
       "<Axes: >"
      ]
     },
     "execution_count": 119,
     "metadata": {},
     "output_type": "execute_result"
    },
    {
     "data": {
      "image/png": "[encoded data removed]",
      "text/plain": [
       "<Figure size 640x480 with 1 Axes>"
      ]
     },
     "metadata": {},
     "output_type": "display_data"
    }
   ],
   "source": [
    "df.sentence_length.sort_values().hist()"
   ]
  }
 ],
 "metadata": {
  "kernelspec": {
   "display_name": "Python 3 (ipykernel)",
   "language": "python",
   "name": "python3"
  },
  "language_info": {
   "codemirror_mode": {
    "name": "ipython",
    "version": 3
   },
   "file_extension": ".py",
   "mimetype": "text/x-python",
   "name": "python",
   "nbconvert_exporter": "python",
   "pygments_lexer": "ipython3",
   "version": "3.11.8"
  }
 },
 "nbformat": 4,
 "nbformat_minor": 5
}
